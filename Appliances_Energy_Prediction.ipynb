{
  "nbformat": 4,
  "nbformat_minor": 0,
  "metadata": {
    "colab": {
      "name": "Appliances Energy Prediction.ipynb",
      "private_outputs": true,
      "provenance": [],
      "authorship_tag": "ABX9TyMdzrkuXllL9tu3NUys8eNp",
      "include_colab_link": true
    },
    "kernelspec": {
      "name": "python3",
      "display_name": "Python 3"
    },
    "language_info": {
      "name": "python"
    }
  },
  "cells": [
    {
      "cell_type": "markdown",
      "metadata": {
        "id": "view-in-github",
        "colab_type": "text"
      },
      "source": [
        "<a href=\"https://colab.research.google.com/github/Umesh1307/Appliances-Energy-Prediction/blob/main/Appliances_Energy_Prediction.ipynb\" target=\"_parent\"><img src=\"https://colab.research.google.com/assets/colab-badge.svg\" alt=\"Open In Colab\"/></a>"
      ]
    },
    {
      "cell_type": "markdown",
      "source": [
        "# Problem Statement:\n",
        "\n",
        "---\n",
        "\n",
        "\n",
        "\n",
        "### The data set is at 10 min for about 4.5 months. The house temperature and humidity conditions were monitored with a ZigBee wireless sensor network. Each wireless node transmitted the temperature and humidity conditions around 3.3 min. Then, the wireless data was averaged for 10 minutes periods. The energy data was logged every 10 minutes with m-bus energy meters. Weather from the nearest airport weather station (Chievres Airport, Belgium) was downloaded from a public data set from Reliable Prognosis (rp5.ru) and merged together with the experimental data sets using the date and time column. Two random variables have been included in the data set for testing the regression models and to filter out non-predictive attributes(parameters).\n",
        "\n",
        "1. date: year-month-day hour:minute:second\n",
        "2. T1: Temperature in kitchen area, in Celsius\n",
        "3. RH_1: Humidity in kitchen area, in %\n",
        "4. T2: Temperature in living room area, in Celsius\n",
        "5. RH_2: Humidity in living room area, in %\n",
        "6. T3: Temperature in laundry room area\n",
        "7. RH_3: Humidity in laundry room area, in %\n",
        "8. T4: Temperature in office room, in Celsius\n",
        "9. RH_4: Humidity in office room, in %\n",
        "10. T5: Temperature in bathroom, in Celsius\n",
        "11. vRH_5: Humidity in bathroom, in %\n",
        "12. T6: Temperature outside the building (north side), in Celsius\n",
        "13. RH_6: Humidity outside the building (north side), in %\n",
        "14. T7: Temperature in ironing room, in Celsius\n",
        "15. RH_7: Humidity in ironing room, in %\n",
        "16. T8: Temperature in teenager room 2, in Celsius\n",
        "17. RH_8: Humidity in teenager room 2, in %\n",
        "18. T9: Temperature in parents’ room, in Celsius\n",
        "19. RH_9: Humidity in parents’ room, in %\n",
        "20. T_out: Temperature outside (from Chievres weather station), in Celsius\n",
        "21. Pressure: (from Chievres weather station), in mm Hg\n",
        "22. RH_out: Humidity outside (from Chievres weather station), in %\n",
        "23. Wind speed: (from Chievres weather station), in m/s\n",
        "24. Visibility: (from Chievres weather station), in km\n",
        "25. T_dewpoint: (from Chievres weather station), Â°C\n",
        "26. rv1: Random variable 1, non-dimensional\n",
        "27. rv2: Random variable 2, non-dimensional\n",
        "28. Lights: energy use of light fixtures in the house in Wh\n",
        "29. Appliances: energy use in Wh (Target Variable)\n",
        "\n",
        "### Where indicated, hourly data (then interpolated) from the nearest airport weather station (Chievres Airport, Belgium) was downloaded from a public data set from Reliable Prognosis,rp5.ru. Permission was obtained from Reliable Prognosis for the distribution of the 4.5 months of weather data."
      ],
      "metadata": {
        "id": "WsUW8XM_hLNb"
      }
    },
    {
      "cell_type": "markdown",
      "source": [
        "##😇 Before Delving deep straight into the coding part, let's understand the problem statement together.\n",
        "\n",
        "---\n",
        "\n",
        "\n",
        "Energy is the ability to do work\n",
        "Scientists define energy as the ability to do work. Modern civilization is possible because people have learned how to change energy from one form to another and then use it to do work. People use energy to walk and bicycle, to move cars along roads and boats through water, to cook food on stoves, to make ice in freezers, to light our homes and offices, to manufacture products, and to send astronauts into space.\n",
        "\n",
        "There are many different forms of energy, including:\n",
        "\n",
        "Heat\n",
        "\n",
        "Light\n",
        "\n",
        "Motion\n",
        "\n",
        "Electrical\n",
        "\n",
        "Chemical\n",
        "\n",
        "Gravitational\n",
        "\n",
        "😇 curious to know about energy more refere this [link text](https://www.eia.gov/energyexplained/what-is-energy/)\n",
        "\n",
        "\n",
        "# Objective of Project:\n",
        "---\n",
        "### The increasing trend in energy consumption is becoming cause of concern for the entire world, as the energy consumption is increasing year after year so is the carbon and greenhouse gas emission, the majority portion of the electricity generated is consumed by industrial sector but a considerable amount is also consumed by residential sector. It is important to study the energy consuming behaviour in the residential sector and predict the energy consumption by home appliances as it consume maximum amount of energy in the residence. This project focuses on predicting the energy consumption of home appliances based on humidity and temperature.\n",
        "\n",
        "---\n",
        "\n",
        "# What we can do?\n",
        "\n",
        "---\n",
        "\n",
        "\n",
        "\n",
        "\n",
        "\n",
        "### Energy prediction of appliances requires identifying and predicting individual appliance energy consumption when combined in a closed chain environment. This experiment aims to provide insight into reducing energy consumption by identifying trends and appliances involved.\n",
        "\n",
        "# Tentative Roadmap to Follow:\n",
        "\n",
        "---\n",
        "\n",
        "* ### Loading the dataset.\n",
        "\n",
        "* ### cleaning and transforming of features (Null value treatment, Data type consistency check).\n",
        "* ### Descriptive statistical analysis.\n",
        "* ### Skewness and outlier (anomalies) detection analysis.\n",
        "* ### Feature engineering (standardizing, normalizing, multicolinearity assumption check, linearity between independent and dependent variable check).\n",
        "* ### Exploratory data analysis(understanding the patteren and behaviour of data. EDA involves generating summary statistics for numerical data in the dataset and creating various graphical representations to understand the data better).\n",
        "* ### Understanding the feature importance (PCA can be handy for feature selection, lasso regression can be a another option).\n",
        "* ### Model Selection.\n",
        "* ### Model Training.\n",
        "* ### Model Evaluation.\n",
        "* ### Conclusion.\n",
        "\n",
        "\n",
        "\n",
        "\n"
      ],
      "metadata": {
        "id": "U_td3b31hLQ_"
      }
    },
    {
      "cell_type": "markdown",
      "source": [
        "# ***STEP 1: LOADING THE DATASET***\n",
        "\n",
        "---\n",
        "\n"
      ],
      "metadata": {
        "id": "gQS6TVr9NhAa"
      }
    },
    {
      "cell_type": "code",
      "source": [
        "# Let's get started with very first step loading the wapon's(libraries):\n",
        "import numpy as np\n",
        "import pandas as pd\n",
        "import matplotlib.pyplot as plt\n",
        "import seaborn as sns\n",
        "from sklearn.decomposition import PCA, LatentDirichletAllocation\n",
        "from sklearn.model_selection import train_test_split\n",
        "from sklearn.linear_model import Ridge, Lasso\n",
        "from sklearn.ensemble import RandomForestRegressor, GradientBoostingRegressor, ExtraTreesRegressor\n",
        "from sklearn.neural_network import MLPRegressor\n",
        "import xgboost as xgb\n",
        "from sklearn import neighbors\n",
        "from sklearn.svm import SVR\n",
        "import time\n",
        "from math import sqrt\n",
        "from sklearn.metrics import mean_squared_error, r2_score\n",
        "from sklearn.preprocessing import StandardScaler\n",
        "from sklearn.model_selection import GridSearchCV\n",
        "from keras.wrappers.scikit_learn import KerasRegressor\n",
        "from sklearn.model_selection import cross_val_score\n",
        "from sklearn.model_selection import KFold\n",
        "from sklearn.pipeline import Pipeline\n",
        "from tensorflow.keras import Sequential, layers, Input\n",
        "import warnings\n",
        "warnings.filterwarnings('ignore')"
      ],
      "metadata": {
        "id": "M9vqjY5P8JdL"
      },
      "execution_count": null,
      "outputs": []
    },
    {
      "cell_type": "code",
      "source": [
        "# Mounting the drive:\n",
        "from google.colab import drive\n",
        "drive.mount('/content/drive')"
      ],
      "metadata": {
        "id": "vvzPF0iR9Sao"
      },
      "execution_count": null,
      "outputs": []
    },
    {
      "cell_type": "code",
      "source": [
        "# Creating the directorial path for the data set:\n",
        "dir_path=\"/content/drive/MyDrive/Almabetter Project/Capstone - Projects/Module 4 Supervised ML Regression/Appliances Energy Prediction\""
      ],
      "metadata": {
        "id": "QuSWQ7c682g6"
      },
      "execution_count": null,
      "outputs": []
    },
    {
      "cell_type": "code",
      "source": [
        "# Loading the dataset:\n",
        "energy_df=pd.read_csv(dir_path+\"/data_application_energy.csv\")"
      ],
      "metadata": {
        "id": "ruL0QLoO9tAR"
      },
      "execution_count": null,
      "outputs": []
    },
    {
      "cell_type": "code",
      "source": [
        "# Checking the head of the dataset, traditional way yet useful\n",
        "energy_df.head()"
      ],
      "metadata": {
        "id": "eKfqpe0--ZKP"
      },
      "execution_count": null,
      "outputs": []
    },
    {
      "cell_type": "code",
      "source": [
        "# Let's use the colab data table feature to visualize explictly! This feature was new one for me :)\n",
        "from google.colab.data_table import DataTable\n",
        "DataTable(energy_df)"
      ],
      "metadata": {
        "id": "6NPc9hTbFnXg"
      },
      "execution_count": null,
      "outputs": []
    },
    {
      "cell_type": "markdown",
      "source": [
        "# A few interesting features of the data table display:😇\n",
        "\n",
        "---\n",
        "\n",
        "\n",
        "\n",
        "* ### Clicking the Filter button in the upper right allows you to search for terms or values in any particular column.\n",
        "* ### Clicking on any column title lets you sort the results according to that column's value.\n",
        "* ### The table displays only a subset of the data at a time. You can navigate through pages of data using the controls on the lower right."
      ],
      "metadata": {
        "id": "Fgw4BzXFJ0EO"
      }
    },
    {
      "cell_type": "code",
      "source": [
        "# Checking the tail of the dataset:)\n",
        "energy_df.tail(3)\n"
      ],
      "metadata": {
        "id": "WC8lgMqxA-Hn"
      },
      "execution_count": null,
      "outputs": []
    },
    {
      "cell_type": "code",
      "source": [
        "# Let's have a look at the data type of the features.\n",
        "energy_df.info()"
      ],
      "metadata": {
        "id": "bGKFDRSpLXrd"
      },
      "execution_count": null,
      "outputs": []
    },
    {
      "cell_type": "markdown",
      "source": [
        "* ### **Number of entries** : 19735\n",
        "* ### **Number of features : 27 ( 2 Random Variables excluded )**\n",
        "\n",
        "* ### **Target Variable : Appliances**\n",
        "\n",
        "### **All features are numerical. No categorical variables. There seems to be no null values in our data set.**"
      ],
      "metadata": {
        "id": "QdqCU8PBMO35"
      }
    },
    {
      "cell_type": "code",
      "source": [
        "# Rechecking for the null values if any\n",
        "energy_df.isnull().any().sum()"
      ],
      "metadata": {
        "id": "6S0sL8frLrub"
      },
      "execution_count": null,
      "outputs": []
    },
    {
      "cell_type": "markdown",
      "source": [
        "## ***DESCRIPTIVE STATISTICAL ANALYSIS***\n",
        "\n",
        "---\n",
        "### Here we will be using pandas describe method to have an intution about the basic behaviour of data, furthermore we will use pandas profilling to have a more understanding of the data.\n"
      ],
      "metadata": {
        "id": "Em870ctyOIXG"
      }
    },
    {
      "cell_type": "code",
      "source": [
        "# Now let's use pandas describe method\n",
        "energy_df.describe()"
      ],
      "metadata": {
        "id": "qux_Z-2ONXi-"
      },
      "execution_count": null,
      "outputs": []
    },
    {
      "cell_type": "code",
      "source": [
        ""
      ],
      "metadata": {
        "id": "iSFsTLqCPE2F"
      },
      "execution_count": null,
      "outputs": []
    }
  ]
}